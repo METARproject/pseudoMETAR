{
 "cells": [
  {
   "cell_type": "code",
   "execution_count": null,
   "metadata": {},
   "outputs": [],
   "source": [
    "import pandas as pd\n",
    "import requests\n",
    "import csv"
   ]
  },
  {
   "cell_type": "code",
   "execution_count": null,
   "metadata": {},
   "outputs": [],
   "source": [
    "url=\"https://www.aviationweather.gov/docs/metar/stations.txt\"\n",
    "   \n",
    "# Utilisez requests.get() pour télécharger le contenu du fichier depuis l'URL\n",
    "response = requests.get(url)\n",
    "airport_list = response.text\n",
    "\n",
    "# Ouvrir un fichier en mode écriture\n",
    "with open('stations_initiales.txt', 'w') as fichier:\n",
    "    # Écrire des données dans le fichier\n",
    "    fichier.write(airport_list)\n",
    "\n",
    "with open('stations_initiales.txt', 'r') as fichier:\n",
    "    lignes = fichier.readlines()\n",
    "\n",
    "# Créez un DataFrame à partir de la liste des lignes\n",
    "df = pd.DataFrame({'texte': lignes})   \n",
    "print(\"DF de base : \", df.count())"
   ]
  },
  {
   "cell_type": "code",
   "execution_count": null,
   "metadata": {},
   "outputs": [],
   "source": [
    "#########################################################################\n",
    "# NETTOYAGE DE LA LISTE\n",
    "#########################################################################\n",
    "\n",
    "#supprime les lignes qui commencent par !\n",
    "df = df[~df['texte'].str.startswith('!')]\n",
    "print(\"DF sans ! : \", df.count())"
   ]
  },
  {
   "cell_type": "code",
   "execution_count": null,
   "metadata": {},
   "outputs": [],
   "source": [
    "#supprime les lignes vides\n",
    "df.dropna()\n",
    "print(\"DF dopna : \", df.count())\n"
   ]
  },
  {
   "cell_type": "code",
   "execution_count": null,
   "metadata": {},
   "outputs": [],
   "source": [
    "#supprime les lignes de titre\n",
    "masque = df['texte'].str.contains('CD  STATION', case=False)\n",
    "df = df[~masque]\n",
    "print(\"DF sans station : \", df.count())\n"
   ]
  },
  {
   "cell_type": "code",
   "execution_count": null,
   "metadata": {},
   "outputs": [],
   "source": [
    "#supprime les lignes qui ne contiennent pas de lettres\n",
    "masque = df['texte'].str.contains('[a-zA-Z]', na=False)\n",
    "df = df[masque]\n",
    "print(\"DF sans lettres : \", df.count())"
   ]
  },
  {
   "cell_type": "code",
   "execution_count": null,
   "metadata": {},
   "outputs": [],
   "source": [
    "#supprime les lignes qui ne contiennent pas de lettres\n",
    "masque = df['texte'].apply(lambda x: len(str(x)) >= 80)\n",
    "df = df[masque]\n",
    "print(\"DF trop courts : \", df.count())"
   ]
  },
  {
   "cell_type": "code",
   "execution_count": null,
   "metadata": {},
   "outputs": [],
   "source": [
    "#########################################################################\n",
    "# ENREGISTREMENT DE LA VERSION NETTOYEE\n",
    "#########################################################################\n",
    "\n",
    "df.to_csv('stations_nettoyees.csv', index=False)"
   ]
  },
  {
   "cell_type": "code",
   "execution_count": null,
   "metadata": {},
   "outputs": [],
   "source": [
    "#########################################################################\n",
    "# SUPRESSION DES COLONNES INUTILES\n",
    "#########################################################################\n",
    "\n",
    "df['Nom'] = df['texte'].str.slice(2, 20)\n",
    "df['Code'] = df['texte'].str.slice(20, 24)\n",
    "    \n",
    "df = df.drop(columns=['texte'])\n",
    "df.reset_index(drop=True, inplace=True)\n",
    "\n",
    "print(\"Version_finale : \",df)\n",
    "df.to_csv('stations_finales.csv', index=False)"
   ]
  },
  {
   "cell_type": "code",
   "execution_count": null,
   "metadata": {},
   "outputs": [],
   "source": [
    "#########################################################################\n",
    "# SUPRESSION DES LIGNES SANS CODES (A FAIRE)\n",
    "#########################################################################"
   ]
  },
  {
   "cell_type": "code",
   "execution_count": null,
   "metadata": {},
   "outputs": [],
   "source": [
    "#retourne la liste des codes OAIC des aéroports sous forme d'une liste permettant d'aller capter les METAR et TAF\n",
    "\n",
    "ma_liste = df['Code'].tolist()\n",
    "\n",
    "with open(\"liste_codes.csv\", 'w', newline='') as fichier_csv:\n",
    "    # Créez un objet writer CSV\n",
    "    writer = csv.writer(fichier_csv)\n",
    "    # Écrivez la liste dans le fichier CSV en tant que ligne unique\n",
    "    writer.writerow(ma_liste)"
   ]
  }
 ],
 "metadata": {
  "kernelspec": {
   "display_name": "Python 3",
   "language": "python",
   "name": "python3"
  },
  "language_info": {
   "name": "python",
   "version": "3.11.5"
  },
  "orig_nbformat": 4
 },
 "nbformat": 4,
 "nbformat_minor": 2
}
